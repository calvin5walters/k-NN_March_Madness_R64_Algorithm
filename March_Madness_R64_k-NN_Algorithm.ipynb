{
 "cells": [
  {
   "cell_type": "markdown",
   "metadata": {},
   "source": [
    "# March Madness Round of 64 k-NN Algorithm"
   ]
  },
  {
   "cell_type": "markdown",
   "metadata": {},
   "source": [
    "## Introduction\n",
    "\n",
    "The purpose of this project is to develop an effective method for predicting Round of 64 outcomes in the NCAA Division I March Madness Basketball Tournament.  We will implement a k-Nearest Neighbors ML algorithm on data from Kenpom and FiveThirtyEight."
   ]
  },
  {
   "cell_type": "markdown",
   "metadata": {},
   "source": [
    "## The Data\n",
    "\n",
    "**Kenpom**: advanced team statistic data was taken from kenpom.com for the 2014-2019 seasons  \n",
    "**FiveThirtyEight**: tournament outcome data were taken from fivethirtyeight.com for the 2014-2019 NCAA Tournaments"
   ]
  },
  {
   "cell_type": "markdown",
   "metadata": {},
   "source": [
    "## Imports"
   ]
  },
  {
   "cell_type": "code",
   "execution_count": 158,
   "metadata": {},
   "outputs": [],
   "source": [
    "import glob\n",
    "\n",
    "import numpy as np\n",
    "import pandas as pd\n",
    "\n",
    "from sklearn.model_selection import LeaveOneOut\n",
    "from sklearn.model_selection import cross_val_score\n",
    "from sklearn.neighbors import KNeighborsClassifier\n",
    "from sklearn.metrics import accuracy_score\n",
    "\n",
    "%matplotlib inline\n",
    "import matplotlib.pyplot as plots\n",
    "plots.style.use('fivethirtyeight')"
   ]
  },
  {
   "cell_type": "markdown",
   "metadata": {},
   "source": [
    "## KenPom data"
   ]
  },
  {
   "cell_type": "code",
   "execution_count": 159,
   "metadata": {},
   "outputs": [],
   "source": [
    "# this cell loads each season's .csv file to respective 'kenpom' variable name\n",
    "years = np.arange(14, 20)\n",
    "\n",
    "kp_list = []\n",
    "for x in years:\n",
    "    x = \"kenpom\" + str(x)\n",
    "    kp_list.append(x)\n",
    "    \n",
    "var_list = tuple(zip(kp_list, years))\n",
    "\n",
    "for var in var_list:\n",
    "    globals()[var[0]] = pd.read_csv(\"summary\" + str(var[1]) + \"_pt.csv\")"
   ]
  },
  {
   "cell_type": "code",
   "execution_count": 160,
   "metadata": {},
   "outputs": [],
   "source": [
    "import sqlalchemy\n",
    "\n",
    "# connect to database system\n",
    "# pd.read_sql takes in a parameter for a SQLite engine, which we create below\n",
    "sqlite_uri = \"sqlite:///marchmadness.db\"\n",
    "sqlite_engine = sqlalchemy.create_engine(sqlite_uri)"
   ]
  },
  {
   "cell_type": "code",
   "execution_count": 161,
   "metadata": {},
   "outputs": [],
   "source": [
    "# start with an empty database - DROP the tables if they\n",
    "# already exist in the database (from a previous run)\n",
    "sql_expr = \"\"\"\n",
    "DROP TABLE IF EXISTS kenpom14;\n",
    "\"\"\"\n",
    "result = sqlite_engine.execute(sql_expr)\n",
    "\n",
    "sql_expr = \"\"\"\n",
    "DROP TABLE IF EXISTS kenpom15;\n",
    "\"\"\"\n",
    "result = sqlite_engine.execute(sql_expr)\n",
    "\n",
    "sql_expr = \"\"\"\n",
    "DROP TABLE IF EXISTS kenpom16;\n",
    "\"\"\"\n",
    "result = sqlite_engine.execute(sql_expr)\n",
    "\n",
    "sql_expr = \"\"\"\n",
    "DROP TABLE IF EXISTS kenpom17;\n",
    "\"\"\"\n",
    "result = sqlite_engine.execute(sql_expr)\n",
    "\n",
    "sql_expr = \"\"\"\n",
    "DROP TABLE IF EXISTS kenpom18;\n",
    "\"\"\"\n",
    "result = sqlite_engine.execute(sql_expr)\n",
    "\n",
    "sql_expr = \"\"\"\n",
    "DROP TABLE IF EXISTS kenpom19;\n",
    "\"\"\"\n",
    "result = sqlite_engine.execute(sql_expr)\n",
    "\n",
    "sql_expr = \"\"\"\n",
    "DROP TABLE IF EXISTS kenpom_all;\n",
    "\"\"\"\n",
    "result = sqlite_engine.execute(sql_expr)"
   ]
  },
  {
   "cell_type": "code",
   "execution_count": 162,
   "metadata": {},
   "outputs": [],
   "source": [
    "# populate kenpom SQL tables\n",
    "for var in var_list:\n",
    "    globals()[var[0]] = globals()[var[0]].to_sql(\"kenpom\" + str(var[1]), con = sqlite_engine)"
   ]
  },
  {
   "cell_type": "code",
   "execution_count": 163,
   "metadata": {},
   "outputs": [],
   "source": [
    "# concatenate all kenpom seasons into same table\n",
    "# create 'Relative AdjEM' variable that quantifies team's strength relative to best team in country\n",
    "sql_expr = \"\"\"\n",
    "SELECT\n",
    "    *,\n",
    "    AdjEM / (SELECT MAX(AdjEM) from kenpom14) AS RelativeAdjEM\n",
    "FROM kenpom14\n",
    "\n",
    "UNION\n",
    "\n",
    "SELECT\n",
    "    *,\n",
    "    AdjEM / (SELECT MAX(AdjEM) from kenpom15) AS RelativeAdjEM\n",
    "FROM kenpom15\n",
    "\n",
    "UNION\n",
    "\n",
    "SELECT\n",
    "    *,\n",
    "    AdjEM / (SELECT MAX(AdjEM) from kenpom16) AS RelativeAdjEM\n",
    "FROM kenpom16\n",
    "\n",
    "UNION\n",
    "\n",
    "SELECT\n",
    "    *,\n",
    "    AdjEM / (SELECT MAX(AdjEM) from kenpom17) AS RelativeAdjEM\n",
    "FROM kenpom17\n",
    "\n",
    "UNION\n",
    "\n",
    "SELECT\n",
    "    *,\n",
    "    AdjEM / (SELECT MAX(AdjEM) from kenpom18) AS RelativeAdjEM\n",
    "FROM kenpom18\n",
    "\n",
    "UNION\n",
    "\n",
    "SELECT\n",
    "    *,\n",
    "    AdjEM / (SELECT MAX(AdjEM) from kenpom19) AS RelativeAdjEM\n",
    "FROM kenpom19\n",
    "\"\"\"\n",
    "\n",
    "kenpom_all = pd.read_sql(sql_expr, sqlite_engine)\n",
    "kenpom_all = kenpom_all.to_sql('kenpom_all', con = sqlite_engine)"
   ]
  },
  {
   "cell_type": "code",
   "execution_count": 164,
   "metadata": {},
   "outputs": [],
   "source": [
    "# drop irrelevant columns\n",
    "sql_expr = \"\"\"\n",
    "SELECT\n",
    "    Season,\n",
    "    TeamName AS Team,\n",
    "    seed,\n",
    "    AdjEM,\n",
    "    RankAdjEM,\n",
    "    RelativeAdjEM,\n",
    "    AdjTempo,\n",
    "    RankAdjTempo,\n",
    "    AdjOE,\n",
    "    RankAdjOE,\n",
    "    AdjDE,\n",
    "    RankAdjDE\n",
    "FROM kenpom_all\n",
    "WHERE NOT seed = 'NaN'\n",
    "ORDER BY\n",
    "    Season,\n",
    "    seed,\n",
    "    AdjEM DESC\n",
    "\"\"\"\n",
    "\n",
    "kenpom = pd.read_sql(sql_expr, sqlite_engine)"
   ]
  },
  {
   "cell_type": "code",
   "execution_count": 165,
   "metadata": {},
   "outputs": [
    {
     "data": {
      "text/html": [
       "<div>\n",
       "<style scoped>\n",
       "    .dataframe tbody tr th:only-of-type {\n",
       "        vertical-align: middle;\n",
       "    }\n",
       "\n",
       "    .dataframe tbody tr th {\n",
       "        vertical-align: top;\n",
       "    }\n",
       "\n",
       "    .dataframe thead th {\n",
       "        text-align: right;\n",
       "    }\n",
       "</style>\n",
       "<table border=\"1\" class=\"dataframe\">\n",
       "  <thead>\n",
       "    <tr style=\"text-align: right;\">\n",
       "      <th></th>\n",
       "      <th>Season</th>\n",
       "      <th>Team</th>\n",
       "      <th>seed</th>\n",
       "      <th>AdjEM</th>\n",
       "      <th>RankAdjEM</th>\n",
       "      <th>RelativeAdjEM</th>\n",
       "      <th>AdjTempo</th>\n",
       "      <th>RankAdjTempo</th>\n",
       "      <th>AdjOE</th>\n",
       "      <th>RankAdjOE</th>\n",
       "      <th>AdjDE</th>\n",
       "      <th>RankAdjDE</th>\n",
       "    </tr>\n",
       "  </thead>\n",
       "  <tbody>\n",
       "    <tr>\n",
       "      <th>0</th>\n",
       "      <td>2014</td>\n",
       "      <td>Arizona</td>\n",
       "      <td>1.0</td>\n",
       "      <td>30.39640</td>\n",
       "      <td>2</td>\n",
       "      <td>0.994396</td>\n",
       "      <td>63.1175</td>\n",
       "      <td>267</td>\n",
       "      <td>115.1930</td>\n",
       "      <td>24</td>\n",
       "      <td>84.7964</td>\n",
       "      <td>1</td>\n",
       "    </tr>\n",
       "    <tr>\n",
       "      <th>1</th>\n",
       "      <td>2014</td>\n",
       "      <td>Florida</td>\n",
       "      <td>1.0</td>\n",
       "      <td>27.81060</td>\n",
       "      <td>3</td>\n",
       "      <td>0.909803</td>\n",
       "      <td>61.5519</td>\n",
       "      <td>317</td>\n",
       "      <td>116.2160</td>\n",
       "      <td>18</td>\n",
       "      <td>88.4056</td>\n",
       "      <td>4</td>\n",
       "    </tr>\n",
       "    <tr>\n",
       "      <th>2</th>\n",
       "      <td>2014</td>\n",
       "      <td>Virginia</td>\n",
       "      <td>1.0</td>\n",
       "      <td>26.42850</td>\n",
       "      <td>4</td>\n",
       "      <td>0.864589</td>\n",
       "      <td>59.6528</td>\n",
       "      <td>345</td>\n",
       "      <td>113.8500</td>\n",
       "      <td>31</td>\n",
       "      <td>87.4218</td>\n",
       "      <td>2</td>\n",
       "    </tr>\n",
       "    <tr>\n",
       "      <th>3</th>\n",
       "      <td>2014</td>\n",
       "      <td>Wichita St.</td>\n",
       "      <td>1.0</td>\n",
       "      <td>25.18040</td>\n",
       "      <td>8</td>\n",
       "      <td>0.823758</td>\n",
       "      <td>63.5718</td>\n",
       "      <td>245</td>\n",
       "      <td>117.1170</td>\n",
       "      <td>15</td>\n",
       "      <td>91.9370</td>\n",
       "      <td>11</td>\n",
       "    </tr>\n",
       "    <tr>\n",
       "      <th>4</th>\n",
       "      <td>2014</td>\n",
       "      <td>Kansas</td>\n",
       "      <td>2.0</td>\n",
       "      <td>25.40110</td>\n",
       "      <td>5</td>\n",
       "      <td>0.830978</td>\n",
       "      <td>66.8907</td>\n",
       "      <td>78</td>\n",
       "      <td>119.9740</td>\n",
       "      <td>6</td>\n",
       "      <td>94.5731</td>\n",
       "      <td>27</td>\n",
       "    </tr>\n",
       "    <tr>\n",
       "      <th>...</th>\n",
       "      <td>...</td>\n",
       "      <td>...</td>\n",
       "      <td>...</td>\n",
       "      <td>...</td>\n",
       "      <td>...</td>\n",
       "      <td>...</td>\n",
       "      <td>...</td>\n",
       "      <td>...</td>\n",
       "      <td>...</td>\n",
       "      <td>...</td>\n",
       "      <td>...</td>\n",
       "      <td>...</td>\n",
       "    </tr>\n",
       "    <tr>\n",
       "      <th>403</th>\n",
       "      <td>2019</td>\n",
       "      <td>Iona</td>\n",
       "      <td>16.0</td>\n",
       "      <td>-3.07828</td>\n",
       "      <td>197</td>\n",
       "      <td>-0.086335</td>\n",
       "      <td>70.5217</td>\n",
       "      <td>45</td>\n",
       "      <td>106.5140</td>\n",
       "      <td>132</td>\n",
       "      <td>109.5930</td>\n",
       "      <td>275</td>\n",
       "    </tr>\n",
       "    <tr>\n",
       "      <th>404</th>\n",
       "      <td>2019</td>\n",
       "      <td>North Dakota St.</td>\n",
       "      <td>16.0</td>\n",
       "      <td>-3.19855</td>\n",
       "      <td>199</td>\n",
       "      <td>-0.089708</td>\n",
       "      <td>64.7859</td>\n",
       "      <td>312</td>\n",
       "      <td>106.5520</td>\n",
       "      <td>127</td>\n",
       "      <td>109.7510</td>\n",
       "      <td>278</td>\n",
       "    </tr>\n",
       "    <tr>\n",
       "      <th>405</th>\n",
       "      <td>2019</td>\n",
       "      <td>Fairleigh Dickinson</td>\n",
       "      <td>16.0</td>\n",
       "      <td>-4.24870</td>\n",
       "      <td>208</td>\n",
       "      <td>-0.119161</td>\n",
       "      <td>66.7742</td>\n",
       "      <td>214</td>\n",
       "      <td>106.1840</td>\n",
       "      <td>137</td>\n",
       "      <td>110.4320</td>\n",
       "      <td>295</td>\n",
       "    </tr>\n",
       "    <tr>\n",
       "      <th>406</th>\n",
       "      <td>2019</td>\n",
       "      <td>Prairie View A&amp;M</td>\n",
       "      <td>16.0</td>\n",
       "      <td>-4.30871</td>\n",
       "      <td>209</td>\n",
       "      <td>-0.120844</td>\n",
       "      <td>70.9610</td>\n",
       "      <td>34</td>\n",
       "      <td>101.5300</td>\n",
       "      <td>226</td>\n",
       "      <td>105.8380</td>\n",
       "      <td>205</td>\n",
       "    </tr>\n",
       "    <tr>\n",
       "      <th>407</th>\n",
       "      <td>2019</td>\n",
       "      <td>North Carolina Central</td>\n",
       "      <td>16.0</td>\n",
       "      <td>-11.88640</td>\n",
       "      <td>303</td>\n",
       "      <td>-0.333371</td>\n",
       "      <td>65.2069</td>\n",
       "      <td>292</td>\n",
       "      <td>96.6416</td>\n",
       "      <td>301</td>\n",
       "      <td>108.5280</td>\n",
       "      <td>256</td>\n",
       "    </tr>\n",
       "  </tbody>\n",
       "</table>\n",
       "<p>408 rows × 12 columns</p>\n",
       "</div>"
      ],
      "text/plain": [
       "     Season                    Team  seed     AdjEM  RankAdjEM  RelativeAdjEM  \\\n",
       "0      2014                 Arizona   1.0  30.39640          2       0.994396   \n",
       "1      2014                 Florida   1.0  27.81060          3       0.909803   \n",
       "2      2014                Virginia   1.0  26.42850          4       0.864589   \n",
       "3      2014             Wichita St.   1.0  25.18040          8       0.823758   \n",
       "4      2014                  Kansas   2.0  25.40110          5       0.830978   \n",
       "..      ...                     ...   ...       ...        ...            ...   \n",
       "403    2019                    Iona  16.0  -3.07828        197      -0.086335   \n",
       "404    2019        North Dakota St.  16.0  -3.19855        199      -0.089708   \n",
       "405    2019     Fairleigh Dickinson  16.0  -4.24870        208      -0.119161   \n",
       "406    2019        Prairie View A&M  16.0  -4.30871        209      -0.120844   \n",
       "407    2019  North Carolina Central  16.0 -11.88640        303      -0.333371   \n",
       "\n",
       "     AdjTempo  RankAdjTempo     AdjOE  RankAdjOE     AdjDE  RankAdjDE  \n",
       "0     63.1175           267  115.1930         24   84.7964          1  \n",
       "1     61.5519           317  116.2160         18   88.4056          4  \n",
       "2     59.6528           345  113.8500         31   87.4218          2  \n",
       "3     63.5718           245  117.1170         15   91.9370         11  \n",
       "4     66.8907            78  119.9740          6   94.5731         27  \n",
       "..        ...           ...       ...        ...       ...        ...  \n",
       "403   70.5217            45  106.5140        132  109.5930        275  \n",
       "404   64.7859           312  106.5520        127  109.7510        278  \n",
       "405   66.7742           214  106.1840        137  110.4320        295  \n",
       "406   70.9610            34  101.5300        226  105.8380        205  \n",
       "407   65.2069           292   96.6416        301  108.5280        256  \n",
       "\n",
       "[408 rows x 12 columns]"
      ]
     },
     "execution_count": 165,
     "metadata": {},
     "output_type": "execute_result"
    }
   ],
   "source": [
    "kenpom['Team'] = kenpom['Team'].astype('string')\n",
    "kenpom"
   ]
  },
  {
   "cell_type": "markdown",
   "metadata": {},
   "source": [
    "## FiveThirtyEight Data"
   ]
  },
  {
   "cell_type": "code",
   "execution_count": 166,
   "metadata": {},
   "outputs": [],
   "source": [
    "five38_file_extension = 'FiveThirtyEight.csv'\n",
    "five38_filenames = [i for i in glob.glob(f\"*{five38_file_extension}\")]"
   ]
  },
  {
   "cell_type": "code",
   "execution_count": 167,
   "metadata": {},
   "outputs": [],
   "source": [
    "combined_538_data = pd.DataFrame()\n",
    "for file in five38_filenames:\n",
    "    tourney = pd.read_csv(file)\n",
    "    tourney.insert(0, 'Season', pd.to_numeric(file[0:4]))\n",
    "    combined_538_data = pd.concat([combined_538_data, tourney])"
   ]
  },
  {
   "cell_type": "code",
   "execution_count": 168,
   "metadata": {},
   "outputs": [
    {
     "data": {
      "text/html": [
       "<div>\n",
       "<style scoped>\n",
       "    .dataframe tbody tr th:only-of-type {\n",
       "        vertical-align: middle;\n",
       "    }\n",
       "\n",
       "    .dataframe tbody tr th {\n",
       "        vertical-align: top;\n",
       "    }\n",
       "\n",
       "    .dataframe thead th {\n",
       "        text-align: right;\n",
       "    }\n",
       "</style>\n",
       "<table border=\"1\" class=\"dataframe\">\n",
       "  <thead>\n",
       "    <tr style=\"text-align: right;\">\n",
       "      <th></th>\n",
       "      <th>Season</th>\n",
       "      <th>Team</th>\n",
       "      <th>finish</th>\n",
       "      <th>Seed</th>\n",
       "      <th>P(R32)</th>\n",
       "      <th>P(S16)</th>\n",
       "      <th>P(E8)</th>\n",
       "      <th>P(F4)</th>\n",
       "      <th>P(Finals)</th>\n",
       "      <th>P(Champion)</th>\n",
       "      <th>team_rating</th>\n",
       "    </tr>\n",
       "  </thead>\n",
       "  <tbody>\n",
       "    <tr>\n",
       "      <th>0</th>\n",
       "      <td>2014</td>\n",
       "      <td>Albany</td>\n",
       "      <td>1</td>\n",
       "      <td>16</td>\n",
       "      <td>0.012296</td>\n",
       "      <td>0.002051</td>\n",
       "      <td>0.000283</td>\n",
       "      <td>0.000032</td>\n",
       "      <td>0.000004</td>\n",
       "      <td>3.948740e-07</td>\n",
       "      <td>NaN</td>\n",
       "    </tr>\n",
       "    <tr>\n",
       "      <th>1</th>\n",
       "      <td>2014</td>\n",
       "      <td>American</td>\n",
       "      <td>1</td>\n",
       "      <td>15</td>\n",
       "      <td>0.071595</td>\n",
       "      <td>0.020689</td>\n",
       "      <td>0.003560</td>\n",
       "      <td>0.000373</td>\n",
       "      <td>0.000047</td>\n",
       "      <td>7.626705e-06</td>\n",
       "      <td>NaN</td>\n",
       "    </tr>\n",
       "    <tr>\n",
       "      <th>2</th>\n",
       "      <td>2014</td>\n",
       "      <td>Arizona</td>\n",
       "      <td>4</td>\n",
       "      <td>1</td>\n",
       "      <td>0.977695</td>\n",
       "      <td>0.726877</td>\n",
       "      <td>0.582110</td>\n",
       "      <td>0.423917</td>\n",
       "      <td>0.230737</td>\n",
       "      <td>1.335146e-01</td>\n",
       "      <td>NaN</td>\n",
       "    </tr>\n",
       "    <tr>\n",
       "      <th>3</th>\n",
       "      <td>2014</td>\n",
       "      <td>Arizona St.</td>\n",
       "      <td>1</td>\n",
       "      <td>10</td>\n",
       "      <td>0.498813</td>\n",
       "      <td>0.124986</td>\n",
       "      <td>0.031258</td>\n",
       "      <td>0.005652</td>\n",
       "      <td>0.001842</td>\n",
       "      <td>6.024659e-04</td>\n",
       "      <td>NaN</td>\n",
       "    </tr>\n",
       "    <tr>\n",
       "      <th>4</th>\n",
       "      <td>2014</td>\n",
       "      <td>Baylor</td>\n",
       "      <td>3</td>\n",
       "      <td>6</td>\n",
       "      <td>0.703237</td>\n",
       "      <td>0.338103</td>\n",
       "      <td>0.143483</td>\n",
       "      <td>0.044268</td>\n",
       "      <td>0.017873</td>\n",
       "      <td>8.000559e-03</td>\n",
       "      <td>NaN</td>\n",
       "    </tr>\n",
       "    <tr>\n",
       "      <th>...</th>\n",
       "      <td>...</td>\n",
       "      <td>...</td>\n",
       "      <td>...</td>\n",
       "      <td>...</td>\n",
       "      <td>...</td>\n",
       "      <td>...</td>\n",
       "      <td>...</td>\n",
       "      <td>...</td>\n",
       "      <td>...</td>\n",
       "      <td>...</td>\n",
       "      <td>...</td>\n",
       "    </tr>\n",
       "    <tr>\n",
       "      <th>59</th>\n",
       "      <td>2019</td>\n",
       "      <td>Virginia Tech</td>\n",
       "      <td>3</td>\n",
       "      <td>4</td>\n",
       "      <td>0.888466</td>\n",
       "      <td>0.617061</td>\n",
       "      <td>0.187704</td>\n",
       "      <td>0.102977</td>\n",
       "      <td>0.044954</td>\n",
       "      <td>1.977161e-02</td>\n",
       "      <td>89.26</td>\n",
       "    </tr>\n",
       "    <tr>\n",
       "      <th>60</th>\n",
       "      <td>2019</td>\n",
       "      <td>Washington</td>\n",
       "      <td>2</td>\n",
       "      <td>9</td>\n",
       "      <td>0.494005</td>\n",
       "      <td>0.065142</td>\n",
       "      <td>0.020543</td>\n",
       "      <td>0.006295</td>\n",
       "      <td>0.001581</td>\n",
       "      <td>4.003935e-04</td>\n",
       "      <td>82.55</td>\n",
       "    </tr>\n",
       "    <tr>\n",
       "      <th>61</th>\n",
       "      <td>2019</td>\n",
       "      <td>Wisconsin</td>\n",
       "      <td>1</td>\n",
       "      <td>5</td>\n",
       "      <td>0.600614</td>\n",
       "      <td>0.330329</td>\n",
       "      <td>0.088254</td>\n",
       "      <td>0.037996</td>\n",
       "      <td>0.018056</td>\n",
       "      <td>7.172178e-03</td>\n",
       "      <td>86.54</td>\n",
       "    </tr>\n",
       "    <tr>\n",
       "      <th>62</th>\n",
       "      <td>2019</td>\n",
       "      <td>Wofford</td>\n",
       "      <td>2</td>\n",
       "      <td>7</td>\n",
       "      <td>0.633499</td>\n",
       "      <td>0.185530</td>\n",
       "      <td>0.078656</td>\n",
       "      <td>0.025003</td>\n",
       "      <td>0.007437</td>\n",
       "      <td>2.204709e-03</td>\n",
       "      <td>84.38</td>\n",
       "    </tr>\n",
       "    <tr>\n",
       "      <th>63</th>\n",
       "      <td>2019</td>\n",
       "      <td>Yale</td>\n",
       "      <td>1</td>\n",
       "      <td>14</td>\n",
       "      <td>0.155833</td>\n",
       "      <td>0.039958</td>\n",
       "      <td>0.006337</td>\n",
       "      <td>0.000751</td>\n",
       "      <td>0.000120</td>\n",
       "      <td>2.090894e-05</td>\n",
       "      <td>77.11</td>\n",
       "    </tr>\n",
       "  </tbody>\n",
       "</table>\n",
       "<p>384 rows × 11 columns</p>\n",
       "</div>"
      ],
      "text/plain": [
       "    Season           Team  finish  Seed    P(R32)    P(S16)     P(E8)  \\\n",
       "0     2014         Albany       1    16  0.012296  0.002051  0.000283   \n",
       "1     2014       American       1    15  0.071595  0.020689  0.003560   \n",
       "2     2014        Arizona       4     1  0.977695  0.726877  0.582110   \n",
       "3     2014    Arizona St.       1    10  0.498813  0.124986  0.031258   \n",
       "4     2014         Baylor       3     6  0.703237  0.338103  0.143483   \n",
       "..     ...            ...     ...   ...       ...       ...       ...   \n",
       "59    2019  Virginia Tech       3     4  0.888466  0.617061  0.187704   \n",
       "60    2019     Washington       2     9  0.494005  0.065142  0.020543   \n",
       "61    2019      Wisconsin       1     5  0.600614  0.330329  0.088254   \n",
       "62    2019        Wofford       2     7  0.633499  0.185530  0.078656   \n",
       "63    2019           Yale       1    14  0.155833  0.039958  0.006337   \n",
       "\n",
       "       P(F4)  P(Finals)   P(Champion)  team_rating  \n",
       "0   0.000032   0.000004  3.948740e-07          NaN  \n",
       "1   0.000373   0.000047  7.626705e-06          NaN  \n",
       "2   0.423917   0.230737  1.335146e-01          NaN  \n",
       "3   0.005652   0.001842  6.024659e-04          NaN  \n",
       "4   0.044268   0.017873  8.000559e-03          NaN  \n",
       "..       ...        ...           ...          ...  \n",
       "59  0.102977   0.044954  1.977161e-02        89.26  \n",
       "60  0.006295   0.001581  4.003935e-04        82.55  \n",
       "61  0.037996   0.018056  7.172178e-03        86.54  \n",
       "62  0.025003   0.007437  2.204709e-03        84.38  \n",
       "63  0.000751   0.000120  2.090894e-05        77.11  \n",
       "\n",
       "[384 rows x 11 columns]"
      ]
     },
     "execution_count": 168,
     "metadata": {},
     "output_type": "execute_result"
    }
   ],
   "source": [
    "fivethirtyeight = combined_538_data.drop(columns = ['team_alive', 'team_region', 'playin_flag', \n",
    "                                                    'rd1_win', 'timestamp', 'win_odds', 'team_id',\n",
    "                                                    'gender', 'forecast_date', 'results_to', 'team_slot']) \\\n",
    "                                   .rename(columns = {'team_name': 'Team',\n",
    "                                                      'team_seed': 'Seed',\n",
    "                                                      'rd2_win': 'P(R32)',\n",
    "                                                      'rd3_win': 'P(S16)', \n",
    "                                                      'rd4_win': 'P(E8)', \n",
    "                                                      'rd5_win': 'P(F4)', \n",
    "                                                      'rd6_win': 'P(Finals)', \n",
    "                                                      'rd7_win': 'P(Champion)'})\n",
    "\n",
    "fivethirtyeight['Seed'] = fivethirtyeight['Seed'].astype('string')\n",
    "fivethirtyeight['Seed'] = pd.to_numeric(fivethirtyeight['Seed'].str.replace('[a-z]+', ''))\n",
    "fivethirtyeight['Team'] = fivethirtyeight['Team'].astype('string')\n",
    "fivethirtyeight"
   ]
  },
  {
   "cell_type": "markdown",
   "metadata": {},
   "source": [
    "## Merge Dataframes"
   ]
  },
  {
   "cell_type": "code",
   "execution_count": 169,
   "metadata": {},
   "outputs": [],
   "source": [
    "# merge kenpom and fivethirtyeight data\n",
    "teams = kenpom.merge(fivethirtyeight, on = ['Season', 'Team'])\n",
    "teams = teams.drop(columns = ['seed'])"
   ]
  },
  {
   "cell_type": "markdown",
   "metadata": {},
   "source": [
    "## Clean Data\n",
    "\n",
    "### Create dummy variable for Round of 64 outcome"
   ]
  },
  {
   "cell_type": "code",
   "execution_count": 170,
   "metadata": {},
   "outputs": [],
   "source": [
    "# make binary variable to denote if team advanced to 2nd Round (R32) or not\n",
    "finishes = []\n",
    "for finish in teams.finish:\n",
    "    if finish > 1:\n",
    "        finish = 2\n",
    "        finishes.append(finish)\n",
    "    else:\n",
    "        finishes.append(finish)\n",
    "teams.finish = finishes"
   ]
  },
  {
   "cell_type": "markdown",
   "metadata": {},
   "source": [
    "### Select relevant variables"
   ]
  },
  {
   "cell_type": "code",
   "execution_count": 171,
   "metadata": {},
   "outputs": [
    {
     "data": {
      "text/html": [
       "<div>\n",
       "<style scoped>\n",
       "    .dataframe tbody tr th:only-of-type {\n",
       "        vertical-align: middle;\n",
       "    }\n",
       "\n",
       "    .dataframe tbody tr th {\n",
       "        vertical-align: top;\n",
       "    }\n",
       "\n",
       "    .dataframe thead th {\n",
       "        text-align: right;\n",
       "    }\n",
       "</style>\n",
       "<table border=\"1\" class=\"dataframe\">\n",
       "  <thead>\n",
       "    <tr style=\"text-align: right;\">\n",
       "      <th></th>\n",
       "      <th>Season</th>\n",
       "      <th>Team</th>\n",
       "      <th>AdjOE</th>\n",
       "      <th>AdjDE</th>\n",
       "      <th>finish</th>\n",
       "    </tr>\n",
       "  </thead>\n",
       "  <tbody>\n",
       "    <tr>\n",
       "      <th>0</th>\n",
       "      <td>2014</td>\n",
       "      <td>Arizona</td>\n",
       "      <td>115.193</td>\n",
       "      <td>84.7964</td>\n",
       "      <td>2</td>\n",
       "    </tr>\n",
       "    <tr>\n",
       "      <th>1</th>\n",
       "      <td>2014</td>\n",
       "      <td>Florida</td>\n",
       "      <td>116.216</td>\n",
       "      <td>88.4056</td>\n",
       "      <td>2</td>\n",
       "    </tr>\n",
       "    <tr>\n",
       "      <th>2</th>\n",
       "      <td>2014</td>\n",
       "      <td>Virginia</td>\n",
       "      <td>113.850</td>\n",
       "      <td>87.4218</td>\n",
       "      <td>2</td>\n",
       "    </tr>\n",
       "    <tr>\n",
       "      <th>3</th>\n",
       "      <td>2014</td>\n",
       "      <td>Wichita St.</td>\n",
       "      <td>117.117</td>\n",
       "      <td>91.9370</td>\n",
       "      <td>2</td>\n",
       "    </tr>\n",
       "    <tr>\n",
       "      <th>4</th>\n",
       "      <td>2014</td>\n",
       "      <td>Kansas</td>\n",
       "      <td>119.974</td>\n",
       "      <td>94.5731</td>\n",
       "      <td>2</td>\n",
       "    </tr>\n",
       "    <tr>\n",
       "      <th>...</th>\n",
       "      <td>...</td>\n",
       "      <td>...</td>\n",
       "      <td>...</td>\n",
       "      <td>...</td>\n",
       "      <td>...</td>\n",
       "    </tr>\n",
       "    <tr>\n",
       "      <th>379</th>\n",
       "      <td>2019</td>\n",
       "      <td>Bradley</td>\n",
       "      <td>100.892</td>\n",
       "      <td>101.2500</td>\n",
       "      <td>1</td>\n",
       "    </tr>\n",
       "    <tr>\n",
       "      <th>380</th>\n",
       "      <td>2019</td>\n",
       "      <td>Gardner Webb</td>\n",
       "      <td>107.475</td>\n",
       "      <td>108.2180</td>\n",
       "      <td>1</td>\n",
       "    </tr>\n",
       "    <tr>\n",
       "      <th>381</th>\n",
       "      <td>2019</td>\n",
       "      <td>Iona</td>\n",
       "      <td>106.514</td>\n",
       "      <td>109.5930</td>\n",
       "      <td>1</td>\n",
       "    </tr>\n",
       "    <tr>\n",
       "      <th>382</th>\n",
       "      <td>2019</td>\n",
       "      <td>North Dakota St.</td>\n",
       "      <td>106.552</td>\n",
       "      <td>109.7510</td>\n",
       "      <td>1</td>\n",
       "    </tr>\n",
       "    <tr>\n",
       "      <th>383</th>\n",
       "      <td>2019</td>\n",
       "      <td>Fairleigh Dickinson</td>\n",
       "      <td>106.184</td>\n",
       "      <td>110.4320</td>\n",
       "      <td>1</td>\n",
       "    </tr>\n",
       "  </tbody>\n",
       "</table>\n",
       "<p>384 rows × 5 columns</p>\n",
       "</div>"
      ],
      "text/plain": [
       "     Season                 Team    AdjOE     AdjDE  finish\n",
       "0      2014              Arizona  115.193   84.7964       2\n",
       "1      2014              Florida  116.216   88.4056       2\n",
       "2      2014             Virginia  113.850   87.4218       2\n",
       "3      2014          Wichita St.  117.117   91.9370       2\n",
       "4      2014               Kansas  119.974   94.5731       2\n",
       "..      ...                  ...      ...       ...     ...\n",
       "379    2019              Bradley  100.892  101.2500       1\n",
       "380    2019         Gardner Webb  107.475  108.2180       1\n",
       "381    2019                 Iona  106.514  109.5930       1\n",
       "382    2019     North Dakota St.  106.552  109.7510       1\n",
       "383    2019  Fairleigh Dickinson  106.184  110.4320       1\n",
       "\n",
       "[384 rows x 5 columns]"
      ]
     },
     "execution_count": 171,
     "metadata": {},
     "output_type": "execute_result"
    }
   ],
   "source": [
    "teams = teams[['Season', 'Team', 'AdjOE', 'AdjDE', 'finish']]\n",
    "teams"
   ]
  },
  {
   "cell_type": "code",
   "execution_count": 184,
   "metadata": {},
   "outputs": [
    {
     "data": {
      "text/plain": [
       "112.76550078125001"
      ]
     },
     "execution_count": 184,
     "metadata": {},
     "output_type": "execute_result"
    }
   ],
   "source": [
    "np.mean(teams['AdjOE'])"
   ]
  },
  {
   "cell_type": "code",
   "execution_count": 185,
   "metadata": {},
   "outputs": [
    {
     "data": {
      "text/plain": [
       "97.24276223958333"
      ]
     },
     "execution_count": 185,
     "metadata": {},
     "output_type": "execute_result"
    }
   ],
   "source": [
    "np.mean(teams['AdjDE'])"
   ]
  },
  {
   "cell_type": "markdown",
   "metadata": {},
   "source": [
    "## Construct k-NN Algorithm for Classifying March Madness Round of 64 Outcome"
   ]
  },
  {
   "cell_type": "markdown",
   "metadata": {},
   "source": [
    "### 2 Features\n",
    "- **AdjOE**: points scored per 100 offensive possessions adjusted for the quality of opposing defenses, the site of each game, and when each game was played\n",
    "- **AdjDE**: points allowed per 100 offensive possessions adjusted for the quality of opposing defenses, the site of each game, and when each game was played"
   ]
  },
  {
   "cell_type": "markdown",
   "metadata": {},
   "source": [
    "### Feature Scaling"
   ]
  },
  {
   "cell_type": "code",
   "execution_count": 172,
   "metadata": {},
   "outputs": [],
   "source": [
    "def standard_units(x):\n",
    "    \"Convert any array of numbers to standard units.\"\n",
    "    return (x - np.average(x)) / np.std(x, ddof = 1)\n",
    "\n",
    "# convert features to standard units so they\n",
    "# hold equal weight in distance to neighbors\n",
    "teams = teams[['AdjOE', 'AdjDE', 'finish']]\n",
    "teams_std = pd.DataFrame(\n",
    "         {\"AdjOE\": standard_units(teams.AdjOE),\n",
    "          \"AdjDE\": standard_units(teams.AdjDE),\n",
    "          \"finish\": teams.finish})"
   ]
  },
  {
   "cell_type": "markdown",
   "metadata": {},
   "source": [
    "### Split data into training and validation sets (80/20 split)"
   ]
  },
  {
   "cell_type": "code",
   "execution_count": 173,
   "metadata": {},
   "outputs": [],
   "source": [
    "np.random.seed(3)\n",
    "\n",
    "# number of rows in df\n",
    "num_rows = teams.shape[0]\n",
    "\n",
    "# number of rows put into testing data\n",
    "# 20% of entire dataset\n",
    "per_fold = (num_rows // 5) + 1\n",
    "\n",
    "# shuffle rows of teams df\n",
    "teams_std = teams_std.sample(frac = 1)\n",
    "\n",
    "# create validation set for out of sample testing\n",
    "# 20% of entire dataset\n",
    "validation_fold = teams_std[-per_fold:]\n",
    "\n",
    "# remove testing data from df\n",
    "# 80% of entire dataset\n",
    "training_fold = teams_std[:-per_fold]\n",
    "\n",
    "# separate predictors from outcome variable\n",
    "training_X = np.asarray(training_fold.drop(columns = ['finish']))\n",
    "training_Y = np.asarray(training_fold['finish'])"
   ]
  },
  {
   "cell_type": "code",
   "execution_count": 174,
   "metadata": {},
   "outputs": [
    {
     "name": "stdout",
     "output_type": "stream",
     "text": [
      "k-NN Test Accuracies:\n",
      "1 :  0.7068\n",
      "3 :  0.759\n",
      "5 :  0.772\n",
      "7 :  0.772\n",
      "9 :  0.7362\n",
      "11 :  0.7394\n",
      "13 :  0.7459\n",
      "15 :  0.7394\n",
      "17 :  0.7459\n",
      "19 :  0.7362\n",
      "21 :  0.7362\n",
      "23 :  0.7524\n",
      "25 :  0.7557\n",
      "27 :  0.7622\n",
      "29 :  0.7622\n",
      "31 :  0.7557\n",
      "33 :  0.7655\n",
      "35 :  0.759\n",
      "37 :  0.759\n",
      "39 :  0.7459\n",
      "\n",
      "\n",
      "optimal k:  5\n",
      "Validation Accuracy: 0.6364\n"
     ]
    }
   ],
   "source": [
    "# create dict to store test score for each k parameter\n",
    "# initialize neigh_dict to be all zeros\n",
    "neigh_dict = {}\n",
    "for k in np.arange(1, 40, 2):\n",
    "    neigh_dict[k] = 0\n",
    "\n",
    "# tune k parameter with leave-one-out cross-validation\n",
    "# (only odd values to break ties)\n",
    "cv = LeaveOneOut()\n",
    "for k in np.arange(1, 40, 2):\n",
    "    knn = KNeighborsClassifier(n_neighbors = k, algorithm = 'brute')\n",
    "    # leave-one-out cross validation\n",
    "    score = round(np.mean(cross_val_score(knn, training_X, training_Y, cv = cv)), 4)\n",
    "    neigh_dict[k] += score\n",
    "\n",
    "# return average test score for each k parameter\n",
    "print('k-NN Test Accuracies:')\n",
    "for k, v in neigh_dict.items():\n",
    "    print(k, \": \", v)\n",
    "\n",
    "# find optimal k parameter\n",
    "optimal_k = max(neigh_dict, key = neigh_dict.get)\n",
    "print('\\n')\n",
    "print(\"optimal k: \", optimal_k)\n",
    "\n",
    "# Test k-NN model performance on (unseen) validation data\n",
    "# separate predictors from outcome variable in validation fold\n",
    "validation_x = np.asarray(validation_fold.drop(columns = ['finish']))\n",
    "validation_y = np.asarray(validation_fold['finish'])\n",
    "\n",
    "# return score of k-NN algorithm on validation fold with optimal k parameter\n",
    "knn = KNeighborsClassifier(n_neighbors = optimal_k, algorithm = 'brute')\n",
    "fit = knn.fit(training_X, training_Y)\n",
    "val_preds = fit.predict(validation_x)\n",
    "accuracy = accuracy_score(validation_y, val_preds)\n",
    "print('Validation Accuracy:', round(accuracy, 4))"
   ]
  },
  {
   "cell_type": "code",
   "execution_count": 175,
   "metadata": {},
   "outputs": [
    {
     "data": {
      "image/png": "[encoded data removed]",
      "text/plain": [
       "<Figure size 432x288 with 1 Axes>"
      ]
     },
     "metadata": {},
     "output_type": "display_data"
    }
   ],
   "source": [
    "lists = sorted(neigh_dict.items()) # sorted by key, return a list of tuples\n",
    "\n",
    "x, y = zip(*lists) # unpack a list of pairs into two tuples\n",
    "\n",
    "plots.plot(x, y)\n",
    "plots.suptitle('Tuning k-parameter')\n",
    "plots.xlabel('k-NN parameter')\n",
    "plots.ylabel('LOOCV Test Accuracy');\n",
    "plots.show()"
   ]
  },
  {
   "cell_type": "markdown",
   "metadata": {},
   "source": [
    "k = 5 and k = 7 have the best testing accuracy (77.2%) with Leave-One-Out Cross-Validation. Let's examine the decision boundary at k = 5..."
   ]
  },
  {
   "cell_type": "markdown",
   "metadata": {},
   "source": [
    "## Visualize k-NN Decision Boundary"
   ]
  },
  {
   "cell_type": "markdown",
   "metadata": {},
   "source": [
    "### Fit Final Model (k = 5)"
   ]
  },
  {
   "cell_type": "code",
   "execution_count": 176,
   "metadata": {},
   "outputs": [],
   "source": [
    "final_X = np.asarray(teams.drop(columns = ['finish']))\n",
    "final_Y = np.asarray(teams['finish'])\n",
    "\n",
    "knn = KNeighborsClassifier(n_neighbors = optimal_k, algorithm = 'brute')\n",
    "fit = knn.fit(final_X, final_Y)"
   ]
  },
  {
   "cell_type": "markdown",
   "metadata": {},
   "source": [
    "### Create Grid"
   ]
  },
  {
   "cell_type": "code",
   "execution_count": 177,
   "metadata": {},
   "outputs": [],
   "source": [
    "# for visualization - construct a grid of potential points for classifying\n",
    "\n",
    "# create arrays spanning the range of values of features\n",
    "x_array = []\n",
    "y_array = []\n",
    "for x in np.arange(95, 130.1, 0.25):\n",
    "    for y in np.arange(80, 115.1, 0.25):\n",
    "        x_array = np.append(x_array, x)\n",
    "        y_array = np.append(y_array, y)\n",
    "\n",
    "# create grid\n",
    "test_grid = pd.DataFrame(\n",
    "        {\"AdjOE\": x_array,\n",
    "         \"AdjDE\": y_array})  \n",
    "\n",
    "# predict outcome across entire grid\n",
    "grid_preds = knn.predict(test_grid)"
   ]
  },
  {
   "cell_type": "markdown",
   "metadata": {},
   "source": [
    "### Visualize k = 5 Decision Boundary"
   ]
  },
  {
   "cell_type": "code",
   "execution_count": 233,
   "metadata": {},
   "outputs": [
    {
     "data": {
      "image/png": "[encoded data removed]",
      "text/plain": [
       "<Figure size 432x288 with 1 Axes>"
      ]
     },
     "metadata": {},
     "output_type": "display_data"
    }
   ],
   "source": [
    "# a visualization of the k-NN classification grid\n",
    "\n",
    "# k-NN algorithm\n",
    "plots.scatter(test_grid.AdjOE[grid_preds == 1], test_grid.AdjDE[grid_preds == 1], \n",
    "              color = 'red', alpha = 0.5, s = 15,\n",
    "              label = 'Loss')\n",
    "plots.scatter(test_grid.AdjOE[grid_preds == 2], test_grid.AdjDE[grid_preds == 2], \n",
    "              color = 'blue', alpha = 0.5, s = 15,\n",
    "              label = 'Win')\n",
    "\n",
    "plots.suptitle(str(optimal_k) + '-NN Classification Grid')\n",
    "plots.legend(loc = \"upper left\", markerscale = 4)\n",
    "plots.xlabel('AdjOE')\n",
    "plots.ylabel('AdjDE');"
   ]
  },
  {
   "cell_type": "markdown",
   "metadata": {},
   "source": [
    "Further investigation reveals that the decision boundary at low k values is not as smooth as desired.  Lower AdjDE is better and higher AdjOE is better.  Thus, it does not make sense to have many stray pockets of different classes in the decision boundary diagram.  These pockets at lower k values could be due to randomness from a smaller sample size.  By increasing the k-parameter, we can smooth the decision boundary.\n",
    "\n",
    "The next best choice for k is k = 33.  Let's examine the decision boundary for the new parameter..."
   ]
  },
  {
   "cell_type": "markdown",
   "metadata": {},
   "source": [
    "## Update Model with New k-Parameter (k = 33)"
   ]
  },
  {
   "cell_type": "markdown",
   "metadata": {},
   "source": [
    "### Fit Updated Final Model"
   ]
  },
  {
   "cell_type": "code",
   "execution_count": 179,
   "metadata": {},
   "outputs": [],
   "source": [
    "optimal_k = 33\n",
    "\n",
    "knn = KNeighborsClassifier(n_neighbors = optimal_k, algorithm = 'brute')\n",
    "fit = knn.fit(final_X, final_Y)"
   ]
  },
  {
   "cell_type": "markdown",
   "metadata": {},
   "source": [
    "### Update Grid Predictions"
   ]
  },
  {
   "cell_type": "code",
   "execution_count": 180,
   "metadata": {},
   "outputs": [],
   "source": [
    "# predict outcome across entire grid\n",
    "grid_preds = knn.predict(test_grid)"
   ]
  },
  {
   "cell_type": "markdown",
   "metadata": {},
   "source": [
    "### Visualize k = 33 Decision Boundary"
   ]
  },
  {
   "cell_type": "code",
   "execution_count": 234,
   "metadata": {},
   "outputs": [
    {
     "data": {
      "image/png": "[encoded data removed]",
      "text/plain": [
       "<Figure size 432x288 with 1 Axes>"
      ]
     },
     "metadata": {},
     "output_type": "display_data"
    }
   ],
   "source": [
    "# a visualization of the k-NN classification grid\n",
    "\n",
    "# k-NN algorithm\n",
    "plots.scatter(test_grid.AdjOE[grid_preds == 1], test_grid.AdjDE[grid_preds == 1], \n",
    "              color = 'red', alpha = 0.2, s = 15,\n",
    "              label = 'Loss')\n",
    "plots.scatter(test_grid.AdjOE[grid_preds == 2], test_grid.AdjDE[grid_preds == 2], \n",
    "              color = 'blue', alpha = 0.2, s = 15,\n",
    "              label = 'Win')\n",
    "\n",
    "# center of distribution\n",
    "plots.vlines(np.mean(teams['AdjOE']), ymin = 96, ymax = 98.5, \n",
    "             color = 'white', alpha = 0.7, label = 'center\\nof distr.')\n",
    "plots.hlines(np.mean(teams['AdjDE']), xmin = 112, xmax = 113.5, \n",
    "             color = 'white', alpha = 0.7)\n",
    "\n",
    "plots.suptitle(str(optimal_k) + '-NN Classification Grid')\n",
    "plots.legend(loc = \"upper left\", markerscale = 4)\n",
    "plots.xlabel('AdjOE')\n",
    "plots.ylabel('AdjDE');"
   ]
  },
  {
   "cell_type": "markdown",
   "metadata": {},
   "source": [
    "The decision boundary at k = 33 is smoother and makes much more sense than the previous model at k = 5.  The blue pocket in the center of the graph is an interesting phenomenon, as it juts out from the otherwise smooth red/blue boundary.  \n",
    "\n",
    "This pocket is located near the center of the distribution of March Madness teams, which suggests that teams with balance between offense and defense may have an advantage in the Round of 64 of the NCAA Tournament."
   ]
  },
  {
   "cell_type": "code",
   "execution_count": 235,
   "metadata": {},
   "outputs": [
    {
     "data": {
      "image/png": "[encoded data removed]",
      "text/plain": [
       "<Figure size 432x288 with 1 Axes>"
      ]
     },
     "metadata": {},
     "output_type": "display_data"
    }
   ],
   "source": [
    "# a visualization of the k-NN classification grid (shaded in background), \n",
    "# with the entire dataset overlaid on top\n",
    "\n",
    "# k-NN grid\n",
    "plots.scatter(test_grid.AdjOE[grid_preds == 1], test_grid.AdjDE[grid_preds == 1], \n",
    "              color = 'red', alpha = 0.2, s = 5)\n",
    "plots.scatter(test_grid.AdjOE[grid_preds == 2], test_grid.AdjDE[grid_preds == 2], \n",
    "              color = 'blue', alpha = 0.2, s = 5)\n",
    "\n",
    "# teams data\n",
    "plots.scatter(teams[teams.finish == 1]['AdjOE'], teams[teams.finish == 1]['AdjDE'],\n",
    "              color = \"red\", label = \"Loss\", alpha = 0.7)\n",
    "plots.scatter(teams[teams.finish == 2]['AdjOE'], teams[teams.finish == 2]['AdjDE'],\n",
    "              color = \"blue\", label = \"Win\", alpha = 0.7)\n",
    "\n",
    "# center of distribution\n",
    "plots.vlines(np.mean(teams['AdjOE']), ymin = 96, ymax = 98.5, \n",
    "             color = 'white', alpha = 0.7, label = 'center\\nof distr.')\n",
    "plots.hlines(np.mean(teams['AdjDE']), xmin = 112, xmax = 113.5, \n",
    "             color = 'white', alpha = 0.7)\n",
    "\n",
    "#plots.scatter(teams['AdjOE'], teams['AdjDE'], color = 'black')\n",
    "\n",
    "plots.suptitle('March Madness Teams overlaid on\\n' + str(optimal_k) + '-NN Classification Grid')\n",
    "plots.legend(loc = \"upper right\", markerscale = 2, framealpha = 0.3, fontsize = 12)\n",
    "plots.xlabel('AdjOE')\n",
    "plots.ylabel('AdjDE');"
   ]
  }
 ],
 "metadata": {
  "kernelspec": {
   "display_name": "Python 3",
   "language": "python",
   "name": "python3"
  },
  "language_info": {
   "codemirror_mode": {
    "name": "ipython",
    "version": 3
   },
   "file_extension": ".py",
   "mimetype": "text/x-python",
   "name": "python",
   "nbconvert_exporter": "python",
   "pygments_lexer": "ipython3",
   "version": "3.8.5"
  }
 },
 "nbformat": 4,
 "nbformat_minor": 4
}
